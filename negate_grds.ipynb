{
 "cells": [
  {
   "cell_type": "code",
   "execution_count": 1,
   "metadata": {},
   "outputs": [],
   "source": [
    "import glob\n",
    "import xarray as xa\n",
    "import numpy as numpy\n",
    "\n",
    "all_results_grd = glob.glob('/Users/jloveles/Documents/python/relax_disloc/parameter_ranges/output_*/*.grd')"
   ]
  },
  {
   "cell_type": "code",
   "execution_count": 2,
   "metadata": {},
   "outputs": [],
   "source": [
    "for i in range(len(all_results_grd)):\n",
    "    grd = xa.load_dataarray(all_results_grd[i])\n",
    "    neg_grd = -grd\n",
    "    neg_grd.to_netcdf(all_results_grd[i])"
   ]
  }
 ],
 "metadata": {
  "kernelspec": {
   "display_name": "celeri",
   "language": "python",
   "name": "python3"
  },
  "language_info": {
   "codemirror_mode": {
    "name": "ipython",
    "version": 3
   },
   "file_extension": ".py",
   "mimetype": "text/x-python",
   "name": "python",
   "nbconvert_exporter": "python",
   "pygments_lexer": "ipython3",
   "version": "3.10.12"
  }
 },
 "nbformat": 4,
 "nbformat_minor": 2
}
