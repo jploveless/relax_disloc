{
 "cells": [
  {
   "cell_type": "code",
   "execution_count": 39,
   "metadata": {},
   "outputs": [],
   "source": [
    "import numpy as np\n",
    "\n",
    "file_path = \"/Users/jloveles/Documents/relax/examples/tutorials/parameter_ranges/base.sh\"\n",
    "file_name = open(file_path, \"r\")\n",
    "lines = file_name.readlines()\n",
    "\n",
    "# Fault width\n",
    "fault_width = 1\n",
    "\n",
    "# List of dips to test\n",
    "dips = np.arange(10, 100, 10)\n",
    "\n",
    "# List of depth multipliers: \n",
    "# Fault depth will be calculated, then multiplied by depth multiplier to define thickness of elastic layer\n",
    "depth_mults = np.arange(1, 4, 1).astype(float)\n",
    "\n",
    "# List of viscosities to test\n",
    "# Framed as gammadot = 1/Maxwell time\n",
    "maxwell_times = np.array([1, 5, 10])\n",
    "viscosities = 1./maxwell_times\n",
    "\n",
    "for i in range(len(dips)):\n",
    "    fault_depth = fault_width * np.sin(np.radians(dips[i]))\n",
    "    if dips[i] == 90:\n",
    "        rake = 0\n",
    "    else:\n",
    "        rake = -90\n",
    "    for j in range(len(depth_mults)):\n",
    "        thick = fault_depth * depth_mults[j]\n",
    "        for k in range(len(viscosities)):\n",
    "            sh_name = 'dip{:}_z{:0.2}_eta{:0.2}.sh'.format(dips[i], depth_mults[j], viscosities[k])\n",
    "            output_name = f\"./output_{sh_name[:-3]}\".format()\n",
    "            # Set output directory name\n",
    "            lines[18] = f\"WDIR={output_name}\"\n",
    "            # Set linear viscous parameters\n",
    "            lines[78] = f\"1 {thick} {viscosities[k]} 0.0\\n\".format()\n",
    "            # Set fault parameters\n",
    "            lines[95] = f'      1    1 -1  0  0      2     {fault_width}      0  {dips[i]}  {rake}\\n'.format()\n",
    "            new_file = open(file_path[0:-7] + sh_name, \"w\")\n",
    "            new_file.writelines(lines)\n",
    "            new_file.close()\n",
    "            \n"
   ]
  },
  {
   "cell_type": "code",
   "execution_count": 17,
   "metadata": {},
   "outputs": [
    {
     "data": {
      "image/png": "[encoded data removed]",
      "text/plain": [
       "<Figure size 432x288 with 1 Axes>"
      ]
     },
     "metadata": {
      "needs_background": "light"
     },
     "output_type": "display_data"
    }
   ],
   "source": []
  }
 ],
 "metadata": {
  "kernelspec": {
   "display_name": "Python 3",
   "language": "python",
   "name": "python3"
  },
  "language_info": {
   "codemirror_mode": {
    "name": "ipython",
    "version": 3
   },
   "file_extension": ".py",
   "mimetype": "text/x-python",
   "name": "python",
   "nbconvert_exporter": "python",
   "pygments_lexer": "ipython3",
   "version": "3.10.1"
  },
  "orig_nbformat": 4
 },
 "nbformat": 4,
 "nbformat_minor": 2
}
